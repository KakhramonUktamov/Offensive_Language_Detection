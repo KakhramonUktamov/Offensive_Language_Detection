{
  "nbformat": 4,
  "nbformat_minor": 0,
  "metadata": {
    "colab": {
      "provenance": []
    },
    "kernelspec": {
      "name": "python3",
      "display_name": "Python 3"
    },
    "language_info": {
      "name": "python"
    }
  },
  "cells": [
    {
      "cell_type": "code",
      "execution_count": 3,
      "metadata": {
        "colab": {
          "base_uri": "https://localhost:8080/"
        },
        "id": "behoFFq2bIT0",
        "outputId": "207b62bc-d5f2-4d0c-ec38-b4379889fe27"
      },
      "outputs": [
        {
          "output_type": "stream",
          "name": "stdout",
          "text": [
            "Collecting transformers\n",
            "  Downloading transformers-4.31.0-py3-none-any.whl (7.4 MB)\n",
            "\u001b[2K     \u001b[90m━━━━━━━━━━━━━━━━━━━━━━━━━━━━━━━━━━━━━━━━\u001b[0m \u001b[32m7.4/7.4 MB\u001b[0m \u001b[31m16.7 MB/s\u001b[0m eta \u001b[36m0:00:00\u001b[0m\n",
            "\u001b[?25hRequirement already satisfied: filelock in /usr/local/lib/python3.10/dist-packages (from transformers) (3.12.2)\n",
            "Collecting huggingface-hub<1.0,>=0.14.1 (from transformers)\n",
            "  Downloading huggingface_hub-0.16.4-py3-none-any.whl (268 kB)\n",
            "\u001b[2K     \u001b[90m━━━━━━━━━━━━━━━━━━━━━━━━━━━━━━━━━━━━━━\u001b[0m \u001b[32m268.8/268.8 kB\u001b[0m \u001b[31m18.3 MB/s\u001b[0m eta \u001b[36m0:00:00\u001b[0m\n",
            "\u001b[?25hRequirement already satisfied: numpy>=1.17 in /usr/local/lib/python3.10/dist-packages (from transformers) (1.22.4)\n",
            "Requirement already satisfied: packaging>=20.0 in /usr/local/lib/python3.10/dist-packages (from transformers) (23.1)\n",
            "Requirement already satisfied: pyyaml>=5.1 in /usr/local/lib/python3.10/dist-packages (from transformers) (6.0)\n",
            "Requirement already satisfied: regex!=2019.12.17 in /usr/local/lib/python3.10/dist-packages (from transformers) (2022.10.31)\n",
            "Requirement already satisfied: requests in /usr/local/lib/python3.10/dist-packages (from transformers) (2.27.1)\n",
            "Collecting tokenizers!=0.11.3,<0.14,>=0.11.1 (from transformers)\n",
            "  Downloading tokenizers-0.13.3-cp310-cp310-manylinux_2_17_x86_64.manylinux2014_x86_64.whl (7.8 MB)\n",
            "\u001b[2K     \u001b[90m━━━━━━━━━━━━━━━━━━━━━━━━━━━━━━━━━━━━━━━━\u001b[0m \u001b[32m7.8/7.8 MB\u001b[0m \u001b[31m42.2 MB/s\u001b[0m eta \u001b[36m0:00:00\u001b[0m\n",
            "\u001b[?25hCollecting safetensors>=0.3.1 (from transformers)\n",
            "  Downloading safetensors-0.3.1-cp310-cp310-manylinux_2_17_x86_64.manylinux2014_x86_64.whl (1.3 MB)\n",
            "\u001b[2K     \u001b[90m━━━━━━━━━━━━━━━━━━━━━━━━━━━━━━━━━━━━━━━━\u001b[0m \u001b[32m1.3/1.3 MB\u001b[0m \u001b[31m55.2 MB/s\u001b[0m eta \u001b[36m0:00:00\u001b[0m\n",
            "\u001b[?25hRequirement already satisfied: tqdm>=4.27 in /usr/local/lib/python3.10/dist-packages (from transformers) (4.65.0)\n",
            "Requirement already satisfied: fsspec in /usr/local/lib/python3.10/dist-packages (from huggingface-hub<1.0,>=0.14.1->transformers) (2023.6.0)\n",
            "Requirement already satisfied: typing-extensions>=3.7.4.3 in /usr/local/lib/python3.10/dist-packages (from huggingface-hub<1.0,>=0.14.1->transformers) (4.7.1)\n",
            "Requirement already satisfied: urllib3<1.27,>=1.21.1 in /usr/local/lib/python3.10/dist-packages (from requests->transformers) (1.26.16)\n",
            "Requirement already satisfied: certifi>=2017.4.17 in /usr/local/lib/python3.10/dist-packages (from requests->transformers) (2023.5.7)\n",
            "Requirement already satisfied: charset-normalizer~=2.0.0 in /usr/local/lib/python3.10/dist-packages (from requests->transformers) (2.0.12)\n",
            "Requirement already satisfied: idna<4,>=2.5 in /usr/local/lib/python3.10/dist-packages (from requests->transformers) (3.4)\n",
            "Installing collected packages: tokenizers, safetensors, huggingface-hub, transformers\n",
            "Successfully installed huggingface-hub-0.16.4 safetensors-0.3.1 tokenizers-0.13.3 transformers-4.31.0\n"
          ]
        }
      ],
      "source": [
        "!pip install transformers"
      ]
    },
    {
      "cell_type": "code",
      "source": [
        "import pandas as pd\n",
        "import numpy as np\n",
        "import keras\n",
        "from keras.layers import Dense, Input, Dropout, Embedding,regularization, Bidirectional, LSTM, GRU, Flatten, LayerNormalization\n",
        "from keras.preprocessing.text import Tokenizer, one_hot\n",
        "from keras import Sequential\n",
        "from tensorflow.keras.preprocessing.sequence import pad_sequences\n",
        "from keras.utils import to_categorical\n",
        "from keras import regularizers\n",
        "\n",
        "from nltk.tokenize import TweetTokenizer\n",
        "from transformers import AutoTokenizer, AutoModel\n",
        "\n",
        "from sklearn.utils.class_weight import compute_class_weight\n",
        "from sklearn.model_selection import train_test_split\n",
        "from sklearn.metrics import roc_auc_score, precision_score, recall_score, average_precision_score, confusion_matrix, classification_report\n",
        "\n",
        "import seaborn as sns\n",
        "sns.set_style('darkgrid')\n",
        "import matplotlib.pyplot as plt\n",
        "\n",
        "import re\n",
        "np.random.seed(123)"
      ],
      "metadata": {
        "id": "G1C1ei_dbiX8"
      },
      "execution_count": 58,
      "outputs": []
    },
    {
      "cell_type": "code",
      "source": [
        "#!git clone https://github.com/KakhramonUktamov/datasets\n",
        "def load_dataset():\n",
        "  data=pd.read_csv(\"datasets/Offensive-language-tweet-dataset.csv\")\n",
        "  return data"
      ],
      "metadata": {
        "id": "uzVeguuaiGEO"
      },
      "execution_count": 47,
      "outputs": []
    },
    {
      "cell_type": "code",
      "source": [
        "#reference from\n",
        "#https://www.kaggle.com/amackcrane/python-version-of-glove-twitter-preprocess-script\n",
        "#https://nlp.stanford.edu/projects/glove/preprocess-twitter.rb\n",
        "\n",
        "FLAGS = re.MULTILINE | re.DOTALL\n",
        "\n",
        "def hashtag(text):\n",
        "  text = text.group()\n",
        "  hashtag_body = text[1:]\n",
        "  if hashtag_body.isupper():\n",
        "      result = \" {} \".format(hashtag_body.lower())\n",
        "  else:\n",
        "      result = \" \".join([\"\"] + re.split(r\"(?=[A-Z])\", hashtag_body, flags=FLAGS))\n",
        "  return result\n",
        "\n",
        "def allcaps(text):\n",
        "    text = text.group()\n",
        "    return text.lower() + \"  \"\n",
        "\n",
        "\n",
        "def clean_data(text):\n",
        "  eyes = r\"[8:=;]\"\n",
        "  nose = r\"['`\\-]?\"\n",
        "\n",
        "  def re_sub(pattern, repl):\n",
        "    return re.sub(pattern, repl, text, flags=FLAGS)\n",
        "\n",
        "    text = re_sub(r\"https?:\\/\\/\\S+\\b|www\\.(\\w+\\.)+\\S*\", \"\") #convert urls to\n",
        "    text = re_sub(r\"@\\w+\", \"\") #convert mentions to\n",
        "    text = re_sub(r\"{}{}[)dD]+|[)dD]+{}{}\".format(eyes, nose, nose, eyes), \"\")\n",
        "    text = re_sub(r\"{}{}p+\".format(eyes, nose), \"\")\n",
        "    text = re_sub(r\"{}{}+{}{}\".format(eyes, nose, nose, eyes), \"\")\n",
        "    text = re_sub(r\"{}{}[\\/|l*]\".format(eyes, nose), \"\")\n",
        "    text = re_sub(r\"/\",\" / \")\n",
        "    text = re_sub(r\"<3\",\"\")\n",
        "    text = re_sub(r\"[-+]?[.\\d]*[\\d]+[:,.\\d]*\", \"\")#convert digit to\n",
        "    text = re_sub(r\"#\\w+\", hashtag)\n",
        "    text = re_sub(r\"([!?.]){2,}\", r\"\\1 \")\n",
        "    text = re_sub(r\"\\b(\\S*?)(.)\\2{2,}\\b\", r\"\\1\\2 \")\n",
        "    text = re_sub(r\"([a-zA-Z<>()])([?!.:;,])\", r\"\\1 \\2\")\n",
        "    text = re_sub(r\"\", r\"( \\1 )\")\n",
        "    text = re_sub(r\"  \", r\" \")\n",
        "    text = re_sub(r\" ([A-Z]){2,} \", allcaps)\n",
        "\n",
        "  return text.lower()\n",
        "###########################################################################################################\n",
        "\n",
        "def preprocessing_tweet(tweet_df):\n",
        "  temp_list= []\n",
        "  for t in tweet_df['tweet']:\n",
        "    temp_list.append(clean_data(t))\n",
        "  tweet_df['clean_tweet'] = temp_list\n",
        "  return tweet_df"
      ],
      "metadata": {
        "id": "LERx_mgYiQfB"
      },
      "execution_count": 83,
      "outputs": []
    },
    {
      "cell_type": "code",
      "source": [
        "def split_tweet(cleantweet):\n",
        "  trainX, tempX=train_test_split(cleantweet, test_size=0.4, random_state=42)\n",
        "  testX, valX=train_test_split(tempX, test_size=0.5, random_state=42)\n",
        "  return trainX, testX, valX\n",
        "\n",
        "def extract_tweet(data):\n",
        "  tweet, target=data['clean_tweet'], data['class']\n",
        "  return tweet, target\n",
        "\n",
        "def keras_tokenizer(train_tw, test_tw, val_tw, max_number_words=100):\n",
        "  tk=Tokenizer()\n",
        "  tk.fit_on_texts(train_tw)\n",
        "  word_index=tk.word_index\n",
        "  vocab_size=len(word_index)+1\n",
        "\n",
        "  train_vector=tk.texts_to_sequences(train_tw)\n",
        "  test_vector=tk.texts_to_sequences(test_tw)\n",
        "  val_vector=tk.texts_to_sequences(val_tw)\n",
        "\n",
        "  train_padded=pad_sequences(train_vector, maxlen=max_number_words, padding='post')\n",
        "  test_padded=pad_sequences(test_vector, maxlen=max_number_words, padding='post')\n",
        "  val_padded=pad_sequences(val_vector, maxlen=max_number_words, padding='post')\n",
        "\n",
        "  return train_padded, test_padded, val_padded, word_index, vocab_size, tk\n",
        "\n",
        "\n",
        "#one hot encode y\n",
        "def prepare_target(raw_y):\n",
        "  class_weight = compute_class_weight('balanced', classes=[0,1,2], y=raw_y)\n",
        "  class_weight_dict = dict((c,w) for c, w in enumerate(class_weight))\n",
        "  target = to_categorical(raw_y)\n",
        "  return np.array(target), class_weight_dict"
      ],
      "metadata": {
        "id": "Tu6J94zpiR_6"
      },
      "execution_count": 94,
      "outputs": []
    },
    {
      "cell_type": "code",
      "source": [
        "def Bidirectional_lstm(param={}):\n",
        "  max_seq_len=param['max length']\n",
        "\n",
        "\n",
        "  vocab_size=param['vocab size']\n",
        "\n",
        "  embedding_trainable=True\n",
        "  e=Embedding(vocab_size, 100, embeddings_initializer='uniform',input_length=max_seq_len,\n",
        "              trainable=embedding_trainable)\n",
        "\n",
        "  embedding_matrics=param['embedding matrics']\n",
        "  if embedding_matrics is not None:\n",
        "    embedding_trainable=False\n",
        "    e=Embedding(vocab_size, 100, embeddings_regularizer='uniform', input_length=max_seq_len,\n",
        "                trainable=embedding_trainable, weights=[embedding_matrics])\n",
        "\n",
        "  inputs=Input(shape=(max_seq_len,), dtype='int64', name='inputs')\n",
        "  x=e(inputs)\n",
        "  x=Bidirectional(LSTM(100, return_sequences=True, dropout=param['dropout']))(x)\n",
        "  x=Bidirectional(LSTM(100, return_sequences=True, dropout=param['dropout']))(x)\n",
        "  x=Flatten()(x)\n",
        "  x=LayerNormalization()(x)\n",
        "  x=Dense(param['first layer'], activation='relu', kernel_regularizer=regularizers.l2(0.01))(x)\n",
        "  x=Dropout(param['dropout'])(x)\n",
        "  x=LayerNormalization()(x)\n",
        "  x=Dense(param['second layer'])(x)\n",
        "  x=Dropout(param['dropout'])(x)\n",
        "  outputs=Dense(3, activation='softmax')(x)\n",
        "  model=keras.Model(inputs, outputs)\n",
        "  model.summary()\n",
        "\n",
        "  return model\n",
        "\n",
        ""
      ],
      "metadata": {
        "id": "HWQ-GvIQjJCh"
      },
      "execution_count": 95,
      "outputs": []
    },
    {
      "cell_type": "code",
      "source": [
        "def train_model(model, tweet_train, y_train, tweet_val, y_val, batch_size, num_epochs, class_weight):\n",
        "\n",
        "  es = keras.callbacks.EarlyStopping(monitor=\"val_loss\",patience=3)\n",
        "  history = model.fit(\n",
        "            tweet_train, y_train,\n",
        "            batch_size=batch_size,\n",
        "            epochs=num_epochs,\n",
        "            validation_data=(tweet_val, y_val),\n",
        "            class_weight = class_weight,\n",
        "            callbacks=[es])\n",
        "  return model, history\n",
        "\n",
        "def compile_model(model):\n",
        "  model.compile(loss='categorical_crossentropy', optimizer='rmsprop',\n",
        "                metrics=['accuracy',\n",
        "                         keras.metrics.AUC(curve=\"ROC\", multi_label=True),\n",
        "                         keras.metrics.AUC(curve=\"PR\", multi_label=True),\n",
        "                         keras.metrics.Precision(),\n",
        "                         keras.metrics.Recall()])\n",
        "  return model\n",
        "\n",
        "\n",
        "def evaluate_model(probs, y_test):\n",
        "    # print(probs)\n",
        "    # print(y_test)\n",
        "\n",
        "    probs = probs.argmax(1)\n",
        "    eval_dict = {\n",
        "        \"Hate\": {\n",
        "            \"pr_auc\": average_precision_score(y_test[:, 0], probs==0), \"pr_auc_random_guess\": sum(y_test[:, 0])/(1.0*y_test.shape[0]),\n",
        "            \"roc_auc\": roc_auc_score(y_test[:, 0], probs==0), \"roc_auc_random_guess\": 0.5,\n",
        "            \"precision\": precision_score(y_test[:, 0], probs==0),\n",
        "            \"recall\": recall_score(y_test[:, 0], probs==0)\n",
        "        },\n",
        "        \"Offensive\": {\n",
        "            \"pr_auc\": average_precision_score(y_test[:, 1], probs==1), \"pr_auc_random_guess\": sum(y_test[:, 1])/(1.0*y_test.shape[0]),\n",
        "            \"roc_auc\": roc_auc_score(y_test[:, 1], probs==1), \"roc_auc_random_guess\": 0.5,\n",
        "            \"precision\": precision_score(y_test[:, 1], probs==1),\n",
        "            \"recall\": recall_score(y_test[:, 1], probs==1)\n",
        "        },\n",
        "        \"Neither\": {\n",
        "            \"pr_auc\": average_precision_score(y_test[:, 2], probs==2), \"pr_auc_random_guess\": sum(y_test[:, 2])/(1.0*y_test.shape[0]),\n",
        "            \"roc_auc\": roc_auc_score(y_test[:, 2], probs==2), \"roc_auc_random_guess\": 0.5,\n",
        "            \"precision\": precision_score(y_test[:, 2], probs==2),\n",
        "            \"recall\": recall_score(y_test[:, 2], probs==2)\n",
        "        }\n",
        "    }\n",
        "    return eval_dict\n",
        "\n",
        "\n",
        "#Create Batch Prediction for out of GPU memory solution\n",
        "def model_batch_predict(model, model_inputs_and_masks_test, batch_size=100):\n",
        "\n",
        "    probs = np.empty((0,3))\n",
        "    # last_batch = model_inputs_and_masks_test.shape[1] % batch_size\n",
        "    i = 0\n",
        "    if type(model_inputs_and_masks_test) is dict:\n",
        "      iteration = int(model_inputs_and_masks_test['inputs'].shape[0] / batch_size)\n",
        "      for i in range(iteration):\n",
        "        test = {'inputs':model_inputs_and_masks_test['inputs'][i*batch_size:(i+1)*batch_size],\n",
        "                'masks': model_inputs_and_masks_test['masks'][i*batch_size:(i+1)*batch_size]}\n",
        "        probs= np.concatenate((probs, np.array(model(test, training=False))))\n",
        "      last_batch_test =  {'inputs':model_inputs_and_masks_test['inputs'][(i+1)*batch_size:],\n",
        "                          'masks': model_inputs_and_masks_test['masks'][(i+1)*batch_size:]}\n",
        "      probs= np.concatenate((probs, np.array(model(last_batch_test, training=False))))\n",
        "\n",
        "    else:\n",
        "      probs = model(model_inputs_and_masks_test, training=False)\n",
        "\n",
        "    return np.array(probs)"
      ],
      "metadata": {
        "id": "6CzDIkdLjpbU"
      },
      "execution_count": 101,
      "outputs": []
    },
    {
      "cell_type": "code",
      "source": [
        "def plot_confusion_matrix(predict, y_true):\n",
        "  y_predict = predict.argmax(1)\n",
        "  class_hate = pd.DataFrame(confusion_matrix(y_test[:,0], y_predict==0))\n",
        "  class_offensive = pd.DataFrame(confusion_matrix(y_test[:,1], y_predict==1))\n",
        "  class_neither = pd.DataFrame(confusion_matrix(y_test[:,2], y_predict==2))\n",
        "\n",
        "  fig, (ax1, ax2, ax3) = plt.subplots(1, 3, figsize=(15,5))\n",
        "  sns.set(font_scale=1.5)#for label size\n",
        "  sns.heatmap(class_hate, cmap=\"cool\", annot=True, fmt='g', ax=ax1, cbar=False)\n",
        "  sns.heatmap(class_offensive, cmap=\"Greens\", annot=True, fmt='g', ax=ax2, cbar=False)\n",
        "  sns.heatmap(class_neither, cmap=\"YlGnBu\", annot=True, fmt='g', ax=ax3, cbar=False)\n",
        "\n",
        "  ax1.set_ylabel('True')\n",
        "  ax2.set_ylabel('True')\n",
        "  ax3.set_ylabel('True')\n",
        "  ax1.set_xlabel('Predicted')\n",
        "  ax2.set_xlabel('Predicted')\n",
        "  ax3.set_xlabel('Predicted')\n",
        "  ax1.set_title('Hate')\n",
        "  ax2.set_title('Offensive')\n",
        "  ax3.set_title('Neither')\n",
        "\n",
        "  plt.tight_layout()\n",
        "  plt.show\n"
      ],
      "metadata": {
        "id": "NLTFofc56qNn"
      },
      "execution_count": 104,
      "outputs": []
    },
    {
      "cell_type": "code",
      "source": [
        "\n",
        "def print_classification_report(predict, y_true):\n",
        "  y_predict = predict.argmax(1)\n",
        "  class_hate = classification_report(y_test[:,0], y_predict==0)\n",
        "  class_offensive = classification_report(y_test[:,1], y_predict==1)\n",
        "  class_neither = classification_report(y_test[:,2], y_predict==2)\n",
        "\n",
        "  print(\"Hate Speech\".center(60), \"\\n\", class_hate, \"\\n\\n\",\n",
        "        \"Offensive Speech\".center(60), '\\n', class_offensive, '\\n',\n",
        "        \"Neither\".center(60), '\\n', class_neither)\n",
        ""
      ],
      "metadata": {
        "id": "1MEyocUh6udU"
      },
      "execution_count": 61,
      "outputs": []
    },
    {
      "cell_type": "code",
      "source": [
        "#EXECUTION\n",
        "\n",
        "raw_df = load_dataset()\n",
        "clean_df = raw_df\n",
        "clean_df = preprocessing_tweet(clean_df)\n",
        "\n",
        "train_df, val_df, test_df = split_tweet(clean_df)\n",
        "\n",
        "X_train, y_train = extract_tweet(train_df)\n",
        "X_val, y_val = extract_tweet(val_df)\n",
        "X_test, y_test = extract_tweet(test_df)\n",
        "\n",
        "\n",
        "y_raw, class_weight_raw = prepare_target(clean_df['class'])\n",
        "y_train, class_weight_train = prepare_target(y_train)\n",
        "y_val, class_weight_val = prepare_target(y_val)\n",
        "y_test, class_weight_test = prepare_target(y_test)\n",
        ""
      ],
      "metadata": {
        "id": "6y97oM0b6wXz"
      },
      "execution_count": 97,
      "outputs": []
    },
    {
      "cell_type": "code",
      "source": [
        "x_train_lstm, x_val_lstm,x_test_lstm,word_index, vocab_size, tokenizer= keras_tokenizer(X_train,X_test, X_val)"
      ],
      "metadata": {
        "id": "hfOeN78c7h6T"
      },
      "execution_count": 98,
      "outputs": []
    },
    {
      "cell_type": "code",
      "source": [
        "#BiDirectional LSTM Model\n",
        "\n",
        "Bidirectional_lstm_model = Bidirectional_lstm(param={'max length': 100,\n",
        "                                  'vocab size': vocab_size,\n",
        "                                  'embedding matrics': None,\n",
        "                                  'dropout':0.20,\n",
        "                                  'first layer' : 128,\n",
        "                                  'second layer' : 64,\n",
        "                                  })\n",
        "Bidirectional_lstm_model = compile_model(Bidirectional_lstm_model)\n",
        "\n",
        "%time Bi_dir_lstm_model, history_lstm = train_model(Bidirectional_lstm_model, x_train_lstm, y_train, x_val_lstm, y_val, batch_size=64,num_epochs=10, class_weight=class_weight_train)"
      ],
      "metadata": {
        "colab": {
          "base_uri": "https://localhost:8080/"
        },
        "id": "3A_7DKKW-nad",
        "outputId": "db66b657-6d2b-4e67-e85f-32fe2966f225"
      },
      "execution_count": 99,
      "outputs": [
        {
          "output_type": "stream",
          "name": "stdout",
          "text": [
            "Model: \"model_4\"\n",
            "_________________________________________________________________\n",
            " Layer (type)                Output Shape              Param #   \n",
            "=================================================================\n",
            " inputs (InputLayer)         [(None, 100)]             0         \n",
            "                                                                 \n",
            " embedding_5 (Embedding)     (None, 100, 100)          2607000   \n",
            "                                                                 \n",
            " bidirectional_8 (Bidirectio  (None, 100, 200)         160800    \n",
            " nal)                                                            \n",
            "                                                                 \n",
            " bidirectional_9 (Bidirectio  (None, 100, 200)         240800    \n",
            " nal)                                                            \n",
            "                                                                 \n",
            " flatten_4 (Flatten)         (None, 20000)             0         \n",
            "                                                                 \n",
            " layer_normalization_8 (Laye  (None, 20000)            40000     \n",
            " rNormalization)                                                 \n",
            "                                                                 \n",
            " dense_12 (Dense)            (None, 128)               2560128   \n",
            "                                                                 \n",
            " dropout_8 (Dropout)         (None, 128)               0         \n",
            "                                                                 \n",
            " layer_normalization_9 (Laye  (None, 128)              256       \n",
            " rNormalization)                                                 \n",
            "                                                                 \n",
            " dense_13 (Dense)            (None, 64)                8256      \n",
            "                                                                 \n",
            " dropout_9 (Dropout)         (None, 64)                0         \n",
            "                                                                 \n",
            " dense_14 (Dense)            (None, 3)                 195       \n",
            "                                                                 \n",
            "=================================================================\n",
            "Total params: 5,617,435\n",
            "Trainable params: 5,617,435\n",
            "Non-trainable params: 0\n",
            "_________________________________________________________________\n",
            "Epoch 1/10\n",
            "233/233 [==============================] - 314s 1s/step - loss: 1.6372 - accuracy: 0.4936 - auc_8: 0.6713 - auc_9: 0.4603 - precision_4: 0.5307 - recall_4: 0.4113 - val_loss: 2.1270 - val_accuracy: 0.0912 - val_auc_8: 0.5092 - val_auc_9: 0.3380 - val_precision_4: 0.0910 - val_recall_4: 0.0898\n",
            "Epoch 2/10\n",
            "233/233 [==============================] - 315s 1s/step - loss: 0.8107 - accuracy: 0.7007 - auc_8: 0.8368 - auc_9: 0.6404 - precision_4: 0.7105 - recall_4: 0.6853 - val_loss: 1.9789 - val_accuracy: 0.6088 - val_auc_8: 0.5113 - val_auc_9: 0.3373 - val_precision_4: 0.6199 - val_recall_4: 0.6050\n",
            "Epoch 3/10\n",
            "233/233 [==============================] - 312s 1s/step - loss: 0.6792 - accuracy: 0.7789 - auc_8: 0.8839 - auc_9: 0.6886 - precision_4: 0.7864 - recall_4: 0.7724 - val_loss: 1.9895 - val_accuracy: 0.5776 - val_auc_8: 0.5024 - val_auc_9: 0.3357 - val_precision_4: 0.5787 - val_recall_4: 0.5772\n",
            "Epoch 4/10\n",
            "233/233 [==============================] - 310s 1s/step - loss: 0.6087 - accuracy: 0.8141 - auc_8: 0.8934 - auc_9: 0.7034 - precision_4: 0.8186 - recall_4: 0.8070 - val_loss: 2.7525 - val_accuracy: 0.0835 - val_auc_8: 0.4999 - val_auc_9: 0.3327 - val_precision_4: 0.0828 - val_recall_4: 0.0825\n",
            "Epoch 5/10\n",
            "233/233 [==============================] - 315s 1s/step - loss: 0.5403 - accuracy: 0.8339 - auc_8: 0.9090 - auc_9: 0.7174 - precision_4: 0.8388 - recall_4: 0.8278 - val_loss: 1.9520 - val_accuracy: 0.5860 - val_auc_8: 0.5050 - val_auc_9: 0.3365 - val_precision_4: 0.5867 - val_recall_4: 0.5848\n",
            "Epoch 6/10\n",
            "233/233 [==============================] - 315s 1s/step - loss: 0.4991 - accuracy: 0.8479 - auc_8: 0.9134 - auc_9: 0.7371 - precision_4: 0.8531 - recall_4: 0.8415 - val_loss: 1.7115 - val_accuracy: 0.6050 - val_auc_8: 0.5029 - val_auc_9: 0.3360 - val_precision_4: 0.6096 - val_recall_4: 0.6010\n",
            "Epoch 7/10\n",
            "233/233 [==============================] - 314s 1s/step - loss: 0.4708 - accuracy: 0.8563 - auc_8: 0.9247 - auc_9: 0.7571 - precision_4: 0.8608 - recall_4: 0.8528 - val_loss: 1.5497 - val_accuracy: 0.6252 - val_auc_8: 0.4998 - val_auc_9: 0.3351 - val_precision_4: 0.6248 - val_recall_4: 0.6199\n",
            "Epoch 8/10\n",
            "233/233 [==============================] - 312s 1s/step - loss: 0.4350 - accuracy: 0.8607 - auc_8: 0.9372 - auc_9: 0.7780 - precision_4: 0.8635 - recall_4: 0.8570 - val_loss: 2.0384 - val_accuracy: 0.5118 - val_auc_8: 0.4960 - val_auc_9: 0.3336 - val_precision_4: 0.5123 - val_recall_4: 0.5074\n",
            "Epoch 9/10\n",
            "233/233 [==============================] - 284s 1s/step - loss: 0.4028 - accuracy: 0.8663 - auc_8: 0.9451 - auc_9: 0.7886 - precision_4: 0.8689 - recall_4: 0.8646 - val_loss: 2.3627 - val_accuracy: 0.4392 - val_auc_8: 0.5000 - val_auc_9: 0.3339 - val_precision_4: 0.4401 - val_recall_4: 0.4376\n",
            "Epoch 10/10\n",
            "233/233 [==============================] - 315s 1s/step - loss: 0.3646 - accuracy: 0.8650 - auc_8: 0.9566 - auc_9: 0.8088 - precision_4: 0.8670 - recall_4: 0.8638 - val_loss: 1.8245 - val_accuracy: 0.6222 - val_auc_8: 0.4990 - val_auc_9: 0.3356 - val_precision_4: 0.6249 - val_recall_4: 0.6195\n",
            "CPU times: user 1h 14min 48s, sys: 3min 29s, total: 1h 18min 17s\n",
            "Wall time: 51min 47s\n"
          ]
        }
      ]
    },
    {
      "cell_type": "code",
      "source": [
        "#Model Loss\n",
        "plt.plot(history_lstm.history['loss'])\n",
        "plt.plot(history_lstm.history['val_loss'])\n",
        "plt.title('model loss')\n",
        "plt.ylabel('loss')\n",
        "plt.xlabel('epoch')\n",
        "plt.legend(['train', 'val'], loc='upper left')"
      ],
      "metadata": {
        "colab": {
          "base_uri": "https://localhost:8080/",
          "height": 489
        },
        "id": "YZHxkFJe-92W",
        "outputId": "90a5cd39-7fc1-4426-ba33-301d7918236a"
      },
      "execution_count": 100,
      "outputs": [
        {
          "output_type": "execute_result",
          "data": {
            "text/plain": [
              "<matplotlib.legend.Legend at 0x7a314ae4fc70>"
            ]
          },
          "metadata": {},
          "execution_count": 100
        },
        {
          "output_type": "display_data",
          "data": {
            "text/plain": [
              "<Figure size 640x480 with 1 Axes>"
            ],
            "image/png": "[encoded data removed]"
          },
          "metadata": {}
        }
      ]
    },
    {
      "cell_type": "code",
      "source": [
        "#Saving the model\n",
        "Bidirectional_lstm_model.save(\"BiDirectional_LSTM_model.h5\")\n",
        "\n",
        "BiDirLstm_prediction=model_batch_predict(Bidirectional_lstm_model, x_test_lstm)\n"
      ],
      "metadata": {
        "id": "iGTJ7W6VCOtU"
      },
      "execution_count": 102,
      "outputs": []
    },
    {
      "cell_type": "code",
      "source": [
        "plot_confusion_matrix(BiDirLstm_prediction, y_test)"
      ],
      "metadata": {
        "colab": {
          "base_uri": "https://localhost:8080/",
          "height": 316
        },
        "id": "HNHU0jpCYDj8",
        "outputId": "198fdb3a-696a-47c9-f61b-f52c87d9db57"
      },
      "execution_count": 105,
      "outputs": [
        {
          "output_type": "display_data",
          "data": {
            "text/plain": [
              "<Figure size 1500x500 with 3 Axes>"
            ],
            "image/png": "[encoded data removed]"
          },
          "metadata": {}
        }
      ]
    },
    {
      "cell_type": "code",
      "source": [],
      "metadata": {
        "id": "AGNdIuKMYXI0"
      },
      "execution_count": null,
      "outputs": []
    }
  ]
}